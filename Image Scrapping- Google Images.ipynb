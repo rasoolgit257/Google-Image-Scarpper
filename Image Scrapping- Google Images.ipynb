{
 "cells": [
  {
   "cell_type": "markdown",
   "metadata": {},
   "source": [
    "## This code is used only on websites written in JAVA Scrpit"
   ]
  },
  {
   "cell_type": "markdown",
   "metadata": {},
   "source": [
    "### Step-1:- Create images Folder in same directory\n",
    "### Step-2:- Download and Extract  and Copy in same directory Then  Run \"Chromedriver.exe\"\n"
   ]
  },
  {
   "cell_type": "markdown",
   "metadata": {},
   "source": [
    "* https://chromedriver.chromium.org/\n",
    "* Download chrome Driver"
   ]
  },
  {
   "cell_type": "markdown",
   "metadata": {},
   "source": [
    "### For Firefox\n",
    "* Download https://github.com/mozilla/geckodriver/releases"
   ]
  },
  {
   "cell_type": "code",
   "execution_count": 61,
   "metadata": {},
   "outputs": [
    {
     "data": {
      "text/plain": [
       "['.ipynb_checkpoints',\n",
       " 'chromedriver.exe',\n",
       " 'Image Scrapping- Google Images.ipynb',\n",
       " 'images']"
      ]
     },
     "execution_count": 61,
     "metadata": {},
     "output_type": "execute_result"
    }
   ],
   "source": [
    "os.listdir()"
   ]
  },
  {
   "cell_type": "code",
   "execution_count": 5,
   "metadata": {},
   "outputs": [
    {
     "name": "stdout",
     "output_type": "stream",
     "text": [
      "Collecting selenium\n",
      "  Using cached selenium-3.141.0-py2.py3-none-any.whl (904 kB)\n",
      "Requirement already satisfied: urllib3 in c:\\users\\rasoo\\anaconda3\\lib\\site-packages (from selenium) (1.25.8)\n",
      "Installing collected packages: selenium\n",
      "Successfully installed selenium-3.141.0\n"
     ]
    }
   ],
   "source": [
    "# !pip install selenium"
   ]
  },
  {
   "cell_type": "code",
   "execution_count": 56,
   "metadata": {},
   "outputs": [],
   "source": [
    "import os\n",
    "import time\n",
    "from selenium import webdriver\n",
    "import requests"
   ]
  },
  {
   "cell_type": "code",
   "execution_count": 57,
   "metadata": {},
   "outputs": [],
   "source": [
    "def fetch_image_urls(query:str,max_links_to_fetch:int,wd:webdriver,sleep_between_interactions:int=1 ):\n",
    "    def scroll_to_end(wd):\n",
    "        wd.execute_script(\"window.scrollTo(0, document.body.scrollHeight);\")\n",
    "        time.sleep(sleep_between_interactions)\n",
    "        \n",
    "    search_url=\"https://www.google.com/search?safe=off&site=&tbm=isch&source=hp&q={q}&oq={q}&gs_I=img\"\n",
    "    \n",
    "    wd.get(search_url.format(q=query))\n",
    "    \n",
    "    image_urls=set()\n",
    "    image_count=0\n",
    "    results_start=0\n",
    "    \n",
    "    while image_count<max_links_to_fetch:\n",
    "        scroll_to_end(wd)\n",
    "        \n",
    "        #get all image thumbnail results\n",
    "        thumbnail_results=wd.find_elements_by_css_selector(\"img.Q4LuWd\")\n",
    "        number_results=len(thumbnail_results)\n",
    "        \n",
    "        print(f\"Found:{number_results} search results. Extracting links from{results_start}:{number_results}\")\n",
    "        \n",
    "        for img in thumbnail_results[results_start:number_results]:\n",
    "            # try to click every thumbnail such that we can get the realimage behind it\n",
    "            try:\n",
    "                img.click()\n",
    "                time.sleep(sleep_between_interactions)\n",
    "            except Exception:\n",
    "                continue\n",
    "            \n",
    "            # extract image urls\n",
    "            actual_images=wd.find_elements_by_css_selector('img.n3VNCb')\n",
    "            for actual_image in actual_images:\n",
    "                if actual_image.get_attribute('src') and 'http' in actual_image.get_attribute('src'):\n",
    "                    image_urls.add(actual_image.get_attribute('src'))\n",
    "            \n",
    "            image_count=len(image_urls)\n",
    "            \n",
    "            if len(image_urls)>=max_links_to_fetch:\n",
    "                print(f\"Found: {len(image_urls)} image links Done...\")\n",
    "                break\n",
    "        else:\n",
    "            print(\"Found:\",len(image_urls),\"image links, looking for more..\")\n",
    "            time.sleep(30)\n",
    "            return\n",
    "            load_more_button=wd.find_element_by_css_selector(\".mye4qd\")\n",
    "            if load_more_button:\n",
    "                wd.execute_script(\"documnet.querySelector('.mye4qd').click();\")\n",
    "            \n",
    "        results_start=len(thumbnail_results)\n",
    "    return image_urls\n",
    "            \n",
    "            "
   ]
  },
  {
   "cell_type": "code",
   "execution_count": 58,
   "metadata": {},
   "outputs": [],
   "source": [
    "def persist_image(folder_path:str,url:str,counter):\n",
    "    try:\n",
    "        image_content=requests.get(url).content\n",
    "    except Expection as e:\n",
    "        print(f\"Error-Could not download{url} - {e}\")\n",
    "        \n",
    "    try:\n",
    "        f=open(os.path.join(folder_path,'jpg' + '_'+str(counter)+ \".jpg\"),'wb')\n",
    "        f.write(image_content)\n",
    "        f.close()\n",
    "        print(f\"Success - saved {url} - as{folder_path}\")\n",
    "    except Exception as e:\n",
    "        print(f\"Error - Could not save {url} - {w}\")\n",
    "        "
   ]
  },
  {
   "cell_type": "code",
   "execution_count": 59,
   "metadata": {},
   "outputs": [],
   "source": [
    "def search_and_download(search_term:str,driver_path:str,target_path='./images',number_images=10):\n",
    "    target_folder=os.path.join(target_path,'_'.join(search_term.lower().split(' ')))\n",
    "    if not os.path.exists(target_folder):\n",
    "        os.makedirs(target_folder) # make dir if not present\n",
    "        \n",
    "    with webdriver.Chrome(executable_path=driver_path) as wd:\n",
    "        res = fetch_image_urls(search_term,number_images,wd=wd,sleep_between_interactions=0.5)\n",
    "        \n",
    "    counter=0\n",
    "    for elem in res:\n",
    "        persist_image(target_folder,elem,counter)\n",
    "        counter+=1"
   ]
  },
  {
   "cell_type": "code",
   "execution_count": 62,
   "metadata": {},
   "outputs": [
    {
     "name": "stdout",
     "output_type": "stream",
     "text": [
      "Found:100 search results. Extracting links from0:100\n",
      "Found: 10 image links Done...\n",
      "Success - saved https://encrypted-tbn0.gstatic.com/images?q=tbn%3AANd9GcTen03JQ7G1WboCraBA-bGx-eGf5IKxFmD55Q&usqp=CAU - as./images\\cat\n",
      "Success - saved https://d2c7ipcroan06u.cloudfront.net/wp-content/uploads/2020/04/Cat-representational-image-e1587622908176-696x391.jpg - as./images\\cat\n",
      "Success - saved https://encrypted-tbn0.gstatic.com/images?q=tbn%3AANd9GcRU93-KmbhrU6DiSk82dfejzCjR9vNH8k7IDw&usqp=CAU - as./images\\cat\n",
      "Success - saved https://encrypted-tbn0.gstatic.com/images?q=tbn%3AANd9GcRc8jp9Vwce_IE4m8bCH86nM7Vy9qYiwWZ0-g&usqp=CAU - as./images\\cat\n",
      "Success - saved https://encrypted-tbn0.gstatic.com/images?q=tbn%3AANd9GcQBhSu2ijY76GLl_I1AFoVdlvfmLuW2Z7tPwg&usqp=CAU - as./images\\cat\n",
      "Success - saved https://static.toiimg.com/thumb/msid-72295960,imgsize-545889,width-800,height-600,resizemode-75/72295960.jpg - as./images\\cat\n",
      "Success - saved https://www.hindustantimes.com/rf/image_size_1200x900/HT/p2/2020/04/30/Pictures/_70e9d6ee-8af0-11ea-8bae-d48e751bd032.jpeg - as./images\\cat\n",
      "Success - saved https://encrypted-tbn0.gstatic.com/images?q=tbn%3AANd9GcT7buqUiJvSsv0csE-ZqtFSbUVjenlovTEBjw&usqp=CAU - as./images\\cat\n",
      "Success - saved https://encrypted-tbn0.gstatic.com/images?q=tbn%3AANd9GcRNC3Tf0tlDEDHGSuvtC3SS7va_ROrfjM7VZg&usqp=CAU - as./images\\cat\n",
      "Success - saved https://www.hindustantimes.com/rf/image_size_1200x900/HT/p2/2020/05/15/Pictures/_14e839ba-9691-11ea-a968-2ed746e9a968.jpg - as./images\\cat\n"
     ]
    }
   ],
   "source": [
    "# Inputs are given here\n",
    "\n",
    "DRIVER_PATH='./chromedriver'\n",
    "search_term='cat' \n",
    "# num of images you can pass it from here by default it is 10 if you are not passing\n",
    "# number_images=10\n",
    "\n",
    "search_and_download(search_term=search_term,driver_path=DRIVER_PATH)"
   ]
  },
  {
   "cell_type": "code",
   "execution_count": null,
   "metadata": {},
   "outputs": [],
   "source": []
  },
  {
   "cell_type": "code",
   "execution_count": null,
   "metadata": {},
   "outputs": [],
   "source": []
  }
 ],
 "metadata": {
  "kernelspec": {
   "display_name": "Python 3",
   "language": "python",
   "name": "python3"
  },
  "language_info": {
   "codemirror_mode": {
    "name": "ipython",
    "version": 3
   },
   "file_extension": ".py",
   "mimetype": "text/x-python",
   "name": "python",
   "nbconvert_exporter": "python",
   "pygments_lexer": "ipython3",
   "version": "3.7.6"
  }
 },
 "nbformat": 4,
 "nbformat_minor": 4
}
